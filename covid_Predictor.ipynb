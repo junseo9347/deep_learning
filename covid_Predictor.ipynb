{
  "nbformat": 4,
  "nbformat_minor": 0,
  "metadata": {
    "colab": {
      "name": "covid_Predictor",
      "provenance": []
    },
    "kernelspec": {
      "name": "python3",
      "display_name": "Python 3"
    },
    "language_info": {
      "name": "python"
    }
  },
  "cells": [
    {
      "cell_type": "code",
      "execution_count": null,
      "metadata": {
        "id": "6IT4nuhRPhQV"
      },
      "outputs": [],
      "source": [
        "from keras.models import Sequential\n",
        "from keras.layers import SimpleRNN, Dense\n",
        "from sklearn.preprocessing import MinMaxScaler\n",
        "from sklearn.metrics import mean_squared_error\n",
        "from sklearn.model_selection import train_test_split\n",
        "import math\n",
        "import numpy as np\n",
        "import matplotlib.pyplot as plt\n",
        "from pandas import read_csv"
      ]
    },
    {
      "cell_type": "code",
      "source": [
        "!git clone https://github.com/yhlee1627/deeplearning.git\n",
        "dataframe=read_csv('/content/deeplearning/corona_daily.csv',usecols=[3],engine='python',skipfooter=3)\n",
        "print(dataframe)\n",
        "dataset=dataframe.values\n",
        "dataset=dataset.astype('float32')"
      ],
      "metadata": {
        "colab": {
          "base_uri": "https://localhost:8080/"
        },
        "id": "glj0gGdEQoAY",
        "outputId": "96852d88-8f74-4916-ebbb-51b19aaedee7"
      },
      "execution_count": null,
      "outputs": [
        {
          "output_type": "stream",
          "name": "stdout",
          "text": [
            "fatal: destination path 'deeplearning' already exists and is not an empty directory.\n",
            "     Confirmed\n",
            "0           24\n",
            "1           24\n",
            "2           27\n",
            "3           27\n",
            "4           28\n",
            "..         ...\n",
            "107      11190\n",
            "108      11206\n",
            "109      11225\n",
            "110      11265\n",
            "111      11344\n",
            "\n",
            "[112 rows x 1 columns]\n"
          ]
        }
      ]
    },
    {
      "cell_type": "code",
      "source": [
        "scaler=MinMaxScaler(feature_range=(0,1))\n",
        "Dataset=scaler.fit_transform(dataset)\n",
        "train_data,test_data=train_test_split(Dataset,test_size=0.2,shuffle=False)\n",
        "print(len(train_data),len(test_data))"
      ],
      "metadata": {
        "colab": {
          "base_uri": "https://localhost:8080/"
        },
        "id": "cuwNH0urWUC6",
        "outputId": "5af854a0-c396-4029-86d8-5dd3752cc94d"
      },
      "execution_count": null,
      "outputs": [
        {
          "output_type": "stream",
          "name": "stdout",
          "text": [
            "89 23\n"
          ]
        }
      ]
    },
    {
      "cell_type": "code",
      "source": [
        "def create_dataset(dataset,look_back):\n",
        "  x_data=[]\n",
        "  y_data=[]\n",
        "  for i in range(len(dataset)-look_back):\n",
        "    data=dataset[i:(i+look_back),0]\n",
        "    x_data.append(data)\n",
        "    y_data.append(dataset[i+look_back,0])\n",
        "  return np.array(x_data), np.array(y_data)\n"
      ],
      "metadata": {
        "id": "pAA68UZbXSQ5"
      },
      "execution_count": null,
      "outputs": []
    },
    {
      "cell_type": "code",
      "source": [
        "look_back=20\n",
        "x_train, y_train = create_dataset(train_data, look_back)\n",
        "x_test, y_test=create_dataset(test_data,look_back)\n",
        "print(x_train.shape, y_train.shape)"
      ],
      "metadata": {
        "colab": {
          "base_uri": "https://localhost:8080/"
        },
        "id": "RJ1ZRitLSrtv",
        "outputId": "96c7227f-ced6-45de-9e7c-4237790f9e31"
      },
      "execution_count": null,
      "outputs": [
        {
          "output_type": "stream",
          "name": "stdout",
          "text": [
            "(69, 20) (69,)\n"
          ]
        }
      ]
    },
    {
      "cell_type": "code",
      "source": [
        "X_train=np.reshape(x_train, (x_train.shape[0],1,x_train.shape[1]))\n",
        "X_test=np.reshape(x_test, (x_test.shape[0],1,x_test.shape[1]))\n",
        "print(X_train.shape,X_test.shape)"
      ],
      "metadata": {
        "colab": {
          "base_uri": "https://localhost:8080/"
        },
        "id": "oqduDYEKXSwA",
        "outputId": "1cc69fe5-7e98-4b16-b532-1da9e658ccf3"
      },
      "execution_count": null,
      "outputs": [
        {
          "output_type": "stream",
          "name": "stdout",
          "text": [
            "(69, 1, 20) (3, 1, 20)\n"
          ]
        }
      ]
    },
    {
      "cell_type": "code",
      "source": [
        "model= Sequential()\n",
        "model.add(SimpleRNN(3,input_shape=(1,look_back)))\n",
        "model.add(Dense(1,activation=\"linear\"))\n",
        "model.compile(loss='mse', optimizer='adam')\n",
        "model.summary()"
      ],
      "metadata": {
        "colab": {
          "base_uri": "https://localhost:8080/"
        },
        "id": "_w1NN3ziebjj",
        "outputId": "d7e88af4-c222-4827-a782-3677bc64108b"
      },
      "execution_count": null,
      "outputs": [
        {
          "output_type": "stream",
          "name": "stdout",
          "text": [
            "Model: \"sequential_5\"\n",
            "_________________________________________________________________\n",
            " Layer (type)                Output Shape              Param #   \n",
            "=================================================================\n",
            " simple_rnn_5 (SimpleRNN)    (None, 3)                 72        \n",
            "                                                                 \n",
            " dense_5 (Dense)             (None, 1)                 4         \n",
            "                                                                 \n",
            "=================================================================\n",
            "Total params: 76\n",
            "Trainable params: 76\n",
            "Non-trainable params: 0\n",
            "_________________________________________________________________\n"
          ]
        }
      ]
    },
    {
      "cell_type": "code",
      "source": [
        "model.fit(X_train,y_train,epochs=100,batch_size=1,verbose=1)"
      ],
      "metadata": {
        "colab": {
          "base_uri": "https://localhost:8080/"
        },
        "id": "e0Q3c575f1Nd",
        "outputId": "82bf6231-23f5-4a1f-ebce-6decb3db170b"
      },
      "execution_count": null,
      "outputs": [
        {
          "output_type": "stream",
          "name": "stdout",
          "text": [
            "Epoch 1/100\n",
            "69/69 [==============================] - 1s 2ms/step - loss: 0.0174\n",
            "Epoch 2/100\n",
            "69/69 [==============================] - 0s 2ms/step - loss: 0.0053\n",
            "Epoch 3/100\n",
            "69/69 [==============================] - 0s 2ms/step - loss: 0.0030\n",
            "Epoch 4/100\n",
            "69/69 [==============================] - 0s 2ms/step - loss: 0.0022\n",
            "Epoch 5/100\n",
            "69/69 [==============================] - 0s 2ms/step - loss: 0.0019\n",
            "Epoch 6/100\n",
            "69/69 [==============================] - 0s 2ms/step - loss: 0.0017\n",
            "Epoch 7/100\n",
            "69/69 [==============================] - 0s 2ms/step - loss: 0.0016\n",
            "Epoch 8/100\n",
            "69/69 [==============================] - 0s 2ms/step - loss: 0.0014\n",
            "Epoch 9/100\n",
            "69/69 [==============================] - 0s 2ms/step - loss: 0.0014\n",
            "Epoch 10/100\n",
            "69/69 [==============================] - 0s 1ms/step - loss: 0.0014\n",
            "Epoch 11/100\n",
            "69/69 [==============================] - 0s 2ms/step - loss: 0.0011\n",
            "Epoch 12/100\n",
            "69/69 [==============================] - 0s 1ms/step - loss: 0.0011\n",
            "Epoch 13/100\n",
            "69/69 [==============================] - 0s 1ms/step - loss: 9.0067e-04\n",
            "Epoch 14/100\n",
            "69/69 [==============================] - 0s 1ms/step - loss: 9.2608e-04\n",
            "Epoch 15/100\n",
            "69/69 [==============================] - 0s 1ms/step - loss: 7.8610e-04\n",
            "Epoch 16/100\n",
            "69/69 [==============================] - 0s 1ms/step - loss: 7.7036e-04\n",
            "Epoch 17/100\n",
            "69/69 [==============================] - 0s 1ms/step - loss: 6.8475e-04\n",
            "Epoch 18/100\n",
            "69/69 [==============================] - 0s 2ms/step - loss: 6.5876e-04\n",
            "Epoch 19/100\n",
            "69/69 [==============================] - 0s 2ms/step - loss: 5.5924e-04\n",
            "Epoch 20/100\n",
            "69/69 [==============================] - 0s 1ms/step - loss: 6.0486e-04\n",
            "Epoch 21/100\n",
            "69/69 [==============================] - 0s 1ms/step - loss: 5.0769e-04\n",
            "Epoch 22/100\n",
            "69/69 [==============================] - 0s 1ms/step - loss: 4.9455e-04\n",
            "Epoch 23/100\n",
            "69/69 [==============================] - 0s 1ms/step - loss: 4.3617e-04\n",
            "Epoch 24/100\n",
            "69/69 [==============================] - 0s 1ms/step - loss: 4.1116e-04\n",
            "Epoch 25/100\n",
            "69/69 [==============================] - 0s 1ms/step - loss: 4.4730e-04\n",
            "Epoch 26/100\n",
            "69/69 [==============================] - 0s 1ms/step - loss: 4.0661e-04\n",
            "Epoch 27/100\n",
            "69/69 [==============================] - 0s 2ms/step - loss: 2.9807e-04\n",
            "Epoch 28/100\n",
            "69/69 [==============================] - 0s 1ms/step - loss: 2.7948e-04\n",
            "Epoch 29/100\n",
            "69/69 [==============================] - 0s 1ms/step - loss: 2.4515e-04\n",
            "Epoch 30/100\n",
            "69/69 [==============================] - 0s 2ms/step - loss: 2.3471e-04\n",
            "Epoch 31/100\n",
            "69/69 [==============================] - 0s 1ms/step - loss: 2.0963e-04\n",
            "Epoch 32/100\n",
            "69/69 [==============================] - 0s 1ms/step - loss: 1.9429e-04\n",
            "Epoch 33/100\n",
            "69/69 [==============================] - 0s 1ms/step - loss: 1.9776e-04\n",
            "Epoch 34/100\n",
            "69/69 [==============================] - 0s 1ms/step - loss: 2.2466e-04\n",
            "Epoch 35/100\n",
            "69/69 [==============================] - 0s 1ms/step - loss: 1.9938e-04\n",
            "Epoch 36/100\n",
            "69/69 [==============================] - 0s 1ms/step - loss: 1.7214e-04\n",
            "Epoch 37/100\n",
            "69/69 [==============================] - 0s 2ms/step - loss: 1.8738e-04\n",
            "Epoch 38/100\n",
            "69/69 [==============================] - 0s 1ms/step - loss: 1.3605e-04\n",
            "Epoch 39/100\n",
            "69/69 [==============================] - 0s 1ms/step - loss: 1.2134e-04\n",
            "Epoch 40/100\n",
            "69/69 [==============================] - 0s 1ms/step - loss: 1.3448e-04\n",
            "Epoch 41/100\n",
            "69/69 [==============================] - 0s 1ms/step - loss: 1.0915e-04\n",
            "Epoch 42/100\n",
            "69/69 [==============================] - 0s 1ms/step - loss: 1.2609e-04\n",
            "Epoch 43/100\n",
            "69/69 [==============================] - 0s 1ms/step - loss: 1.1955e-04\n",
            "Epoch 44/100\n",
            "69/69 [==============================] - 0s 1ms/step - loss: 1.0926e-04\n",
            "Epoch 45/100\n",
            "69/69 [==============================] - 0s 1ms/step - loss: 1.6324e-04\n",
            "Epoch 46/100\n",
            "69/69 [==============================] - 0s 1ms/step - loss: 1.0380e-04\n",
            "Epoch 47/100\n",
            "69/69 [==============================] - 0s 1ms/step - loss: 9.4148e-05\n",
            "Epoch 48/100\n",
            "69/69 [==============================] - 0s 1ms/step - loss: 1.0994e-04\n",
            "Epoch 49/100\n",
            "69/69 [==============================] - 0s 1ms/step - loss: 9.9069e-05\n",
            "Epoch 50/100\n",
            "69/69 [==============================] - 0s 1ms/step - loss: 9.1867e-05\n",
            "Epoch 51/100\n",
            "69/69 [==============================] - 0s 2ms/step - loss: 8.9454e-05\n",
            "Epoch 52/100\n",
            "69/69 [==============================] - 0s 2ms/step - loss: 1.1137e-04\n",
            "Epoch 53/100\n",
            "69/69 [==============================] - 0s 2ms/step - loss: 8.9746e-05\n",
            "Epoch 54/100\n",
            "69/69 [==============================] - 0s 2ms/step - loss: 1.0823e-04\n",
            "Epoch 55/100\n",
            "69/69 [==============================] - 0s 1ms/step - loss: 1.0665e-04\n",
            "Epoch 56/100\n",
            "69/69 [==============================] - 0s 1ms/step - loss: 9.5489e-05\n",
            "Epoch 57/100\n",
            "69/69 [==============================] - 0s 1ms/step - loss: 8.4339e-05\n",
            "Epoch 58/100\n",
            "69/69 [==============================] - 0s 1ms/step - loss: 9.1595e-05\n",
            "Epoch 59/100\n",
            "69/69 [==============================] - 0s 2ms/step - loss: 9.3590e-05\n",
            "Epoch 60/100\n",
            "69/69 [==============================] - 0s 1ms/step - loss: 9.3146e-05\n",
            "Epoch 61/100\n",
            "69/69 [==============================] - 0s 1ms/step - loss: 9.9314e-05\n",
            "Epoch 62/100\n",
            "69/69 [==============================] - 0s 1ms/step - loss: 1.1852e-04\n",
            "Epoch 63/100\n",
            "69/69 [==============================] - 0s 1ms/step - loss: 1.1777e-04\n",
            "Epoch 64/100\n",
            "69/69 [==============================] - 0s 1ms/step - loss: 7.7153e-05\n",
            "Epoch 65/100\n",
            "69/69 [==============================] - 0s 2ms/step - loss: 7.8087e-05\n",
            "Epoch 66/100\n",
            "69/69 [==============================] - 0s 1ms/step - loss: 8.4299e-05\n",
            "Epoch 67/100\n",
            "69/69 [==============================] - 0s 1ms/step - loss: 9.6791e-05\n",
            "Epoch 68/100\n",
            "69/69 [==============================] - 0s 1ms/step - loss: 7.3907e-05\n",
            "Epoch 69/100\n",
            "69/69 [==============================] - 0s 1ms/step - loss: 8.4741e-05\n",
            "Epoch 70/100\n",
            "69/69 [==============================] - 0s 1ms/step - loss: 8.0797e-05\n",
            "Epoch 71/100\n",
            "69/69 [==============================] - 0s 1ms/step - loss: 8.6231e-05\n",
            "Epoch 72/100\n",
            "69/69 [==============================] - 0s 1ms/step - loss: 7.0618e-05\n",
            "Epoch 73/100\n",
            "69/69 [==============================] - 0s 1ms/step - loss: 9.8481e-05\n",
            "Epoch 74/100\n",
            "69/69 [==============================] - 0s 1ms/step - loss: 1.1212e-04\n",
            "Epoch 75/100\n",
            "69/69 [==============================] - 0s 2ms/step - loss: 7.1693e-05\n",
            "Epoch 76/100\n",
            "69/69 [==============================] - 0s 2ms/step - loss: 7.0798e-05\n",
            "Epoch 77/100\n",
            "69/69 [==============================] - 0s 1ms/step - loss: 1.0059e-04\n",
            "Epoch 78/100\n",
            "69/69 [==============================] - 0s 1ms/step - loss: 7.8675e-05\n",
            "Epoch 79/100\n",
            "69/69 [==============================] - 0s 2ms/step - loss: 7.7089e-05\n",
            "Epoch 80/100\n",
            "69/69 [==============================] - 0s 1ms/step - loss: 8.1647e-05\n",
            "Epoch 81/100\n",
            "69/69 [==============================] - 0s 1ms/step - loss: 6.5701e-05\n",
            "Epoch 82/100\n",
            "69/69 [==============================] - 0s 1ms/step - loss: 7.0268e-05\n",
            "Epoch 83/100\n",
            "69/69 [==============================] - 0s 1ms/step - loss: 7.1169e-05\n",
            "Epoch 84/100\n",
            "69/69 [==============================] - 0s 2ms/step - loss: 8.2464e-05\n",
            "Epoch 85/100\n",
            "69/69 [==============================] - 0s 1ms/step - loss: 9.2969e-05\n",
            "Epoch 86/100\n",
            "69/69 [==============================] - 0s 1ms/step - loss: 8.2612e-05\n",
            "Epoch 87/100\n",
            "69/69 [==============================] - 0s 1ms/step - loss: 6.3435e-05\n",
            "Epoch 88/100\n",
            "69/69 [==============================] - 0s 1ms/step - loss: 5.6897e-05\n",
            "Epoch 89/100\n",
            "69/69 [==============================] - 0s 1ms/step - loss: 1.0413e-04\n",
            "Epoch 90/100\n",
            "69/69 [==============================] - 0s 2ms/step - loss: 7.3429e-05\n",
            "Epoch 91/100\n",
            "69/69 [==============================] - 0s 1ms/step - loss: 7.0810e-05\n",
            "Epoch 92/100\n",
            "69/69 [==============================] - 0s 2ms/step - loss: 1.0769e-04\n",
            "Epoch 93/100\n",
            "69/69 [==============================] - 0s 2ms/step - loss: 7.1531e-05\n",
            "Epoch 94/100\n",
            "69/69 [==============================] - 0s 1ms/step - loss: 7.3657e-05\n",
            "Epoch 95/100\n",
            "69/69 [==============================] - 0s 1ms/step - loss: 1.0257e-04\n",
            "Epoch 96/100\n",
            "69/69 [==============================] - 0s 1ms/step - loss: 7.8142e-05\n",
            "Epoch 97/100\n",
            "69/69 [==============================] - 0s 1ms/step - loss: 1.2005e-04\n",
            "Epoch 98/100\n",
            "69/69 [==============================] - 0s 1ms/step - loss: 6.9609e-05\n",
            "Epoch 99/100\n",
            "69/69 [==============================] - 0s 1ms/step - loss: 1.0854e-04\n",
            "Epoch 100/100\n",
            "69/69 [==============================] - 0s 1ms/step - loss: 9.3966e-05\n"
          ]
        },
        {
          "output_type": "execute_result",
          "data": {
            "text/plain": [
              "<keras.callbacks.History at 0x7f3c5f367710>"
            ]
          },
          "metadata": {},
          "execution_count": 61
        }
      ]
    },
    {
      "cell_type": "code",
      "source": [
        "trainPredict=model.predict(X_train)\n",
        "testPredict=model.predict(X_test)\n"
      ],
      "metadata": {
        "id": "ScEgy2xQPDI_"
      },
      "execution_count": null,
      "outputs": []
    }
  ]
}