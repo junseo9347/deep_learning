{
  "nbformat": 4,
  "nbformat_minor": 0,
  "metadata": {
    "colab": {
      "name": "covid_Predictor",
      "provenance": [],
      "collapsed_sections": []
    },
    "kernelspec": {
      "name": "python3",
      "display_name": "Python 3"
    },
    "language_info": {
      "name": "python"
    }
  },
  "cells": [
    {
      "cell_type": "code",
      "execution_count": 2,
      "metadata": {
        "id": "6IT4nuhRPhQV"
      },
      "outputs": [],
      "source": [
        "from keras.models import Sequential\n",
        "from keras.layers import SimpleRNN, Dense\n",
        "from sklearn.preprocessing import MinMaxScaler\n",
        "from sklearn.metrics import mean_squared_error\n",
        "from sklearn.model_selection import train_test_split\n",
        "import math\n",
        "import numpy as np\n",
        "import matplotlib.pyplot as plt\n",
        "from pandas import read_csv"
      ]
    },
    {
      "cell_type": "code",
      "source": [
        "!git clone https://github.com/yhlee1627/deeplearning.git\n",
        "dataframe=read_csv('/content/deeplearning/corona_daily.csv',usecols=[3],engine='python',skipfooter=3)\n",
        "print(dataframe)\n",
        "dataset=dataframe.values\n",
        "dataset=dataset.astype('float32')"
      ],
      "metadata": {
        "colab": {
          "base_uri": "https://localhost:8080/"
        },
        "id": "glj0gGdEQoAY",
        "outputId": "e5128228-f0b7-4782-dadd-a0d88ffbe4cd"
      },
      "execution_count": 3,
      "outputs": [
        {
          "output_type": "stream",
          "name": "stdout",
          "text": [
            "fatal: destination path 'deeplearning' already exists and is not an empty directory.\n",
            "     Confirmed\n",
            "0           24\n",
            "1           24\n",
            "2           27\n",
            "3           27\n",
            "4           28\n",
            "..         ...\n",
            "107      11190\n",
            "108      11206\n",
            "109      11225\n",
            "110      11265\n",
            "111      11344\n",
            "\n",
            "[112 rows x 1 columns]\n"
          ]
        }
      ]
    },
    {
      "cell_type": "code",
      "source": [
        "scaler=MinMaxScaler(feature_range=(0,1))\n",
        "Dataset=scaler.fit_transform(dataset)\n",
        "train_data,test_data=train_test_split(Dataset,test_size=0.2,shuffle=False)\n",
        "print(len(train_data),len(test_data))"
      ],
      "metadata": {
        "colab": {
          "base_uri": "https://localhost:8080/"
        },
        "id": "cuwNH0urWUC6",
        "outputId": "5b09a93a-6eee-420d-d13b-0cf5b7452b37"
      },
      "execution_count": 4,
      "outputs": [
        {
          "output_type": "stream",
          "name": "stdout",
          "text": [
            "89 23\n"
          ]
        }
      ]
    },
    {
      "cell_type": "code",
      "source": [
        "def create_dataset(dataset,look_back):\n",
        "  x_data=[]\n",
        "  y_data=[]\n",
        "  for i in range(len(dataset)-look_back):\n",
        "    data=dataset[i:(i+look_back),0]\n",
        "    x_data.append(data)\n",
        "    y_data.append(dataset[i+look_back,0])\n",
        "  return np.array(x_data), np.array(y_data)\n"
      ],
      "metadata": {
        "id": "pAA68UZbXSQ5"
      },
      "execution_count": 5,
      "outputs": []
    },
    {
      "cell_type": "code",
      "source": [
        "look_back=20\n",
        "x_train, y_train = create_dataset(train_data, look_back)\n",
        "x_test, y_test=create_dataset(test_data,look_back)\n",
        "print(x_train.shape, y_train.shape)"
      ],
      "metadata": {
        "colab": {
          "base_uri": "https://localhost:8080/"
        },
        "id": "RJ1ZRitLSrtv",
        "outputId": "0d745a1f-1bd7-4144-9c5a-ae9945cc2855"
      },
      "execution_count": 6,
      "outputs": [
        {
          "output_type": "stream",
          "name": "stdout",
          "text": [
            "(69, 20) (69,)\n"
          ]
        }
      ]
    },
    {
      "cell_type": "code",
      "source": [
        "X_train=np.reshape(x_train, (x_train.shape[0],1,x_train.shape[1]))\n",
        "X_test=np.reshape(x_test, (x_test.shape[0],1,x_test.shape[1]))\n",
        "print(X_train.shape,X_test.shape)"
      ],
      "metadata": {
        "colab": {
          "base_uri": "https://localhost:8080/"
        },
        "id": "oqduDYEKXSwA",
        "outputId": "bbf9c19e-452c-4859-b2d3-d5c9c9f3a5d4"
      },
      "execution_count": 7,
      "outputs": [
        {
          "output_type": "stream",
          "name": "stdout",
          "text": [
            "(69, 1, 20) (3, 1, 20)\n"
          ]
        }
      ]
    },
    {
      "cell_type": "code",
      "source": [
        "model= Sequential()\n",
        "model.add(SimpleRNN(3,input_shape=(1,look_back)))\n",
        "model.add(Dense(1,activation=\"linear\"))\n",
        "model.compile(loss='mse', optimizer='adam')\n",
        "model.summary()"
      ],
      "metadata": {
        "colab": {
          "base_uri": "https://localhost:8080/"
        },
        "id": "_w1NN3ziebjj",
        "outputId": "b243f4b6-4d9c-42d4-f86a-849d1fb2f400"
      },
      "execution_count": 8,
      "outputs": [
        {
          "output_type": "stream",
          "name": "stdout",
          "text": [
            "Model: \"sequential\"\n",
            "_________________________________________________________________\n",
            " Layer (type)                Output Shape              Param #   \n",
            "=================================================================\n",
            " simple_rnn (SimpleRNN)      (None, 3)                 72        \n",
            "                                                                 \n",
            " dense (Dense)               (None, 1)                 4         \n",
            "                                                                 \n",
            "=================================================================\n",
            "Total params: 76\n",
            "Trainable params: 76\n",
            "Non-trainable params: 0\n",
            "_________________________________________________________________\n"
          ]
        }
      ]
    },
    {
      "cell_type": "code",
      "source": [
        "model.fit(X_train,y_train,epochs=100,batch_size=1,verbose=1)"
      ],
      "metadata": {
        "colab": {
          "base_uri": "https://localhost:8080/"
        },
        "id": "e0Q3c575f1Nd",
        "outputId": "c7dd0d60-94cf-4698-914b-3171b3985177"
      },
      "execution_count": 9,
      "outputs": [
        {
          "output_type": "stream",
          "name": "stdout",
          "text": [
            "Epoch 1/100\n",
            "69/69 [==============================] - 3s 7ms/step - loss: 0.0125\n",
            "Epoch 2/100\n",
            "69/69 [==============================] - 0s 6ms/step - loss: 0.0045\n",
            "Epoch 3/100\n",
            "69/69 [==============================] - 0s 5ms/step - loss: 0.0023\n",
            "Epoch 4/100\n",
            "69/69 [==============================] - 0s 6ms/step - loss: 0.0018\n",
            "Epoch 5/100\n",
            "69/69 [==============================] - 0s 7ms/step - loss: 0.0015\n",
            "Epoch 6/100\n",
            "69/69 [==============================] - 0s 6ms/step - loss: 0.0012\n",
            "Epoch 7/100\n",
            "69/69 [==============================] - 1s 8ms/step - loss: 9.7468e-04\n",
            "Epoch 8/100\n",
            "69/69 [==============================] - 1s 7ms/step - loss: 9.1391e-04\n",
            "Epoch 9/100\n",
            "69/69 [==============================] - 1s 8ms/step - loss: 7.7444e-04\n",
            "Epoch 10/100\n",
            "69/69 [==============================] - 1s 9ms/step - loss: 6.8870e-04\n",
            "Epoch 11/100\n",
            "69/69 [==============================] - 0s 4ms/step - loss: 7.0569e-04\n",
            "Epoch 12/100\n",
            "69/69 [==============================] - 0s 3ms/step - loss: 5.0943e-04\n",
            "Epoch 13/100\n",
            "69/69 [==============================] - 0s 5ms/step - loss: 4.6953e-04\n",
            "Epoch 14/100\n",
            "69/69 [==============================] - 0s 5ms/step - loss: 4.9233e-04\n",
            "Epoch 15/100\n",
            "69/69 [==============================] - 0s 5ms/step - loss: 4.1209e-04\n",
            "Epoch 16/100\n",
            "69/69 [==============================] - 0s 4ms/step - loss: 3.4141e-04\n",
            "Epoch 17/100\n",
            "69/69 [==============================] - 0s 4ms/step - loss: 4.0591e-04\n",
            "Epoch 18/100\n",
            "69/69 [==============================] - 1s 8ms/step - loss: 3.0118e-04\n",
            "Epoch 19/100\n",
            "69/69 [==============================] - 0s 6ms/step - loss: 3.0869e-04\n",
            "Epoch 20/100\n",
            "69/69 [==============================] - 0s 5ms/step - loss: 2.6277e-04\n",
            "Epoch 21/100\n",
            "69/69 [==============================] - 0s 4ms/step - loss: 2.4213e-04\n",
            "Epoch 22/100\n",
            "69/69 [==============================] - 0s 3ms/step - loss: 2.1992e-04\n",
            "Epoch 23/100\n",
            "69/69 [==============================] - 0s 3ms/step - loss: 1.9896e-04\n",
            "Epoch 24/100\n",
            "69/69 [==============================] - 0s 5ms/step - loss: 1.8581e-04\n",
            "Epoch 25/100\n",
            "69/69 [==============================] - 0s 4ms/step - loss: 1.7554e-04\n",
            "Epoch 26/100\n",
            "69/69 [==============================] - 0s 3ms/step - loss: 1.9300e-04\n",
            "Epoch 27/100\n",
            "69/69 [==============================] - 0s 2ms/step - loss: 1.4973e-04\n",
            "Epoch 28/100\n",
            "69/69 [==============================] - 0s 3ms/step - loss: 1.4756e-04\n",
            "Epoch 29/100\n",
            "69/69 [==============================] - 0s 6ms/step - loss: 1.3624e-04\n",
            "Epoch 30/100\n",
            "69/69 [==============================] - 0s 5ms/step - loss: 1.4182e-04\n",
            "Epoch 31/100\n",
            "69/69 [==============================] - 0s 4ms/step - loss: 1.2397e-04\n",
            "Epoch 32/100\n",
            "69/69 [==============================] - 0s 4ms/step - loss: 1.1541e-04\n",
            "Epoch 33/100\n",
            "69/69 [==============================] - 0s 5ms/step - loss: 1.3513e-04\n",
            "Epoch 34/100\n",
            "69/69 [==============================] - 0s 3ms/step - loss: 1.3025e-04\n",
            "Epoch 35/100\n",
            "69/69 [==============================] - 0s 4ms/step - loss: 1.0147e-04\n",
            "Epoch 36/100\n",
            "69/69 [==============================] - 0s 7ms/step - loss: 1.0272e-04\n",
            "Epoch 37/100\n",
            "69/69 [==============================] - 0s 7ms/step - loss: 1.2669e-04\n",
            "Epoch 38/100\n",
            "69/69 [==============================] - 0s 3ms/step - loss: 9.4234e-05\n",
            "Epoch 39/100\n",
            "69/69 [==============================] - 0s 3ms/step - loss: 1.0035e-04\n",
            "Epoch 40/100\n",
            "69/69 [==============================] - 0s 5ms/step - loss: 1.0416e-04\n",
            "Epoch 41/100\n",
            "69/69 [==============================] - 0s 3ms/step - loss: 1.4689e-04\n",
            "Epoch 42/100\n",
            "69/69 [==============================] - 0s 4ms/step - loss: 9.5063e-05\n",
            "Epoch 43/100\n",
            "69/69 [==============================] - 0s 2ms/step - loss: 1.0420e-04\n",
            "Epoch 44/100\n",
            "69/69 [==============================] - 0s 2ms/step - loss: 9.0297e-05\n",
            "Epoch 45/100\n",
            "69/69 [==============================] - 0s 2ms/step - loss: 1.1569e-04\n",
            "Epoch 46/100\n",
            "69/69 [==============================] - 0s 2ms/step - loss: 9.3310e-05\n",
            "Epoch 47/100\n",
            "69/69 [==============================] - 0s 2ms/step - loss: 8.3942e-05\n",
            "Epoch 48/100\n",
            "69/69 [==============================] - 0s 2ms/step - loss: 8.6428e-05\n",
            "Epoch 49/100\n",
            "69/69 [==============================] - 0s 2ms/step - loss: 9.3394e-05\n",
            "Epoch 50/100\n",
            "69/69 [==============================] - 0s 2ms/step - loss: 1.0983e-04\n",
            "Epoch 51/100\n",
            "69/69 [==============================] - 0s 2ms/step - loss: 9.6815e-05\n",
            "Epoch 52/100\n",
            "69/69 [==============================] - 0s 2ms/step - loss: 9.6859e-05\n",
            "Epoch 53/100\n",
            "69/69 [==============================] - 0s 2ms/step - loss: 1.1387e-04\n",
            "Epoch 54/100\n",
            "69/69 [==============================] - 0s 2ms/step - loss: 9.7910e-05\n",
            "Epoch 55/100\n",
            "69/69 [==============================] - 0s 1ms/step - loss: 1.4443e-04\n",
            "Epoch 56/100\n",
            "69/69 [==============================] - 0s 2ms/step - loss: 9.6174e-05\n",
            "Epoch 57/100\n",
            "69/69 [==============================] - 0s 2ms/step - loss: 1.0007e-04\n",
            "Epoch 58/100\n",
            "69/69 [==============================] - 0s 2ms/step - loss: 1.3204e-04\n",
            "Epoch 59/100\n",
            "69/69 [==============================] - 0s 2ms/step - loss: 1.0086e-04\n",
            "Epoch 60/100\n",
            "69/69 [==============================] - 0s 2ms/step - loss: 8.0167e-05\n",
            "Epoch 61/100\n",
            "69/69 [==============================] - 0s 2ms/step - loss: 9.3334e-05\n",
            "Epoch 62/100\n",
            "69/69 [==============================] - 0s 2ms/step - loss: 9.8049e-05\n",
            "Epoch 63/100\n",
            "69/69 [==============================] - 0s 2ms/step - loss: 1.2138e-04\n",
            "Epoch 64/100\n",
            "69/69 [==============================] - 0s 2ms/step - loss: 1.1503e-04\n",
            "Epoch 65/100\n",
            "69/69 [==============================] - 0s 2ms/step - loss: 8.6536e-05\n",
            "Epoch 66/100\n",
            "69/69 [==============================] - 0s 2ms/step - loss: 8.3904e-05\n",
            "Epoch 67/100\n",
            "69/69 [==============================] - 0s 2ms/step - loss: 9.4961e-05\n",
            "Epoch 68/100\n",
            "69/69 [==============================] - 0s 2ms/step - loss: 1.0794e-04\n",
            "Epoch 69/100\n",
            "69/69 [==============================] - 0s 2ms/step - loss: 1.5484e-04\n",
            "Epoch 70/100\n",
            "69/69 [==============================] - 0s 2ms/step - loss: 8.5325e-05\n",
            "Epoch 71/100\n",
            "69/69 [==============================] - 0s 2ms/step - loss: 8.9544e-05\n",
            "Epoch 72/100\n",
            "69/69 [==============================] - 0s 2ms/step - loss: 9.0263e-05\n",
            "Epoch 73/100\n",
            "69/69 [==============================] - 0s 2ms/step - loss: 7.5543e-05\n",
            "Epoch 74/100\n",
            "69/69 [==============================] - 0s 2ms/step - loss: 7.0985e-05\n",
            "Epoch 75/100\n",
            "69/69 [==============================] - 0s 2ms/step - loss: 7.2722e-05\n",
            "Epoch 76/100\n",
            "69/69 [==============================] - 0s 2ms/step - loss: 1.5186e-04\n",
            "Epoch 77/100\n",
            "69/69 [==============================] - 0s 2ms/step - loss: 8.9764e-05\n",
            "Epoch 78/100\n",
            "69/69 [==============================] - 0s 2ms/step - loss: 9.6917e-05\n",
            "Epoch 79/100\n",
            "69/69 [==============================] - 0s 2ms/step - loss: 8.6986e-05\n",
            "Epoch 80/100\n",
            "69/69 [==============================] - 0s 2ms/step - loss: 1.1613e-04\n",
            "Epoch 81/100\n",
            "69/69 [==============================] - 0s 2ms/step - loss: 9.2149e-05\n",
            "Epoch 82/100\n",
            "69/69 [==============================] - 0s 2ms/step - loss: 7.4317e-05\n",
            "Epoch 83/100\n",
            "69/69 [==============================] - 0s 2ms/step - loss: 8.2709e-05\n",
            "Epoch 84/100\n",
            "69/69 [==============================] - 0s 2ms/step - loss: 8.4920e-05\n",
            "Epoch 85/100\n",
            "69/69 [==============================] - 0s 2ms/step - loss: 8.4931e-05\n",
            "Epoch 86/100\n",
            "69/69 [==============================] - 0s 2ms/step - loss: 8.8400e-05\n",
            "Epoch 87/100\n",
            "69/69 [==============================] - 0s 2ms/step - loss: 8.2377e-05\n",
            "Epoch 88/100\n",
            "69/69 [==============================] - 0s 2ms/step - loss: 1.0297e-04\n",
            "Epoch 89/100\n",
            "69/69 [==============================] - 0s 2ms/step - loss: 8.1814e-05\n",
            "Epoch 90/100\n",
            "69/69 [==============================] - 0s 2ms/step - loss: 1.5283e-04\n",
            "Epoch 91/100\n",
            "69/69 [==============================] - 0s 2ms/step - loss: 7.6503e-05\n",
            "Epoch 92/100\n",
            "69/69 [==============================] - 0s 2ms/step - loss: 6.7362e-05\n",
            "Epoch 93/100\n",
            "69/69 [==============================] - 0s 2ms/step - loss: 8.9525e-05\n",
            "Epoch 94/100\n",
            "69/69 [==============================] - 0s 2ms/step - loss: 1.0979e-04\n",
            "Epoch 95/100\n",
            "69/69 [==============================] - 0s 2ms/step - loss: 8.6652e-05\n",
            "Epoch 96/100\n",
            "69/69 [==============================] - 0s 2ms/step - loss: 9.9916e-05\n",
            "Epoch 97/100\n",
            "69/69 [==============================] - 0s 2ms/step - loss: 9.1213e-05\n",
            "Epoch 98/100\n",
            "69/69 [==============================] - 0s 2ms/step - loss: 7.0932e-05\n",
            "Epoch 99/100\n",
            "69/69 [==============================] - 0s 2ms/step - loss: 7.7831e-05\n",
            "Epoch 100/100\n",
            "69/69 [==============================] - 0s 2ms/step - loss: 1.1547e-04\n"
          ]
        },
        {
          "output_type": "execute_result",
          "data": {
            "text/plain": [
              "<keras.callbacks.History at 0x7f5c035c0390>"
            ]
          },
          "metadata": {},
          "execution_count": 9
        }
      ]
    },
    {
      "cell_type": "code",
      "source": [
        "trainPredict=model.predict(X_train)\n",
        "testPredict=model.predict(X_test)\n",
        "TrainPredict = scaler.inverse_transform(trainPredict)\n",
        "Y_train = scaler.inverse_transform([y_train])\n",
        "TestPredict = scaler.inverse_transform(testPredict)\n",
        "Y_test = scaler.inverse_transform([y_test])"
      ],
      "metadata": {
        "id": "ScEgy2xQPDI_"
      },
      "execution_count": 22,
      "outputs": []
    },
    {
      "cell_type": "code",
      "source": [
        "trainScore = math.sqrt(mean_squared_error(Y_train[0], TrainPredict[:,0]))\n",
        "print(\"Train Score: %.2f RMSE\" % (trainScore))\n",
        "testScore = math.sqrt(mean_squared_error(Y_test[0], TestPredict[:,0]))\n",
        "print(\"Test Score: %.2f RMSE\" % (testScore))"
      ],
      "metadata": {
        "colab": {
          "base_uri": "https://localhost:8080/"
        },
        "id": "WAdhJM_zE-y2",
        "outputId": "6b4986e8-0087-4d75-9c71-00b7850a2dc3"
      },
      "execution_count": 23,
      "outputs": [
        {
          "output_type": "stream",
          "name": "stdout",
          "text": [
            "Train Score: 80.07 RMSE\n",
            "Test Score: 215.65 RMSE\n"
          ]
        }
      ]
    },
    {
      "cell_type": "code",
      "source": [
        "trainPredictPlot = np.empty_like(dataset)\n",
        "trainPredictPlot[:,:] = np.nan\n",
        "trainPredictPlot[look_back:len(TrainPredict)+look_back, :] = TrainPredict\n",
        "testPredictPlot = np.empty_like(dataset)\n",
        "testPredictPlot[:,:] = np.nan\n",
        "testPredictPlot[len(TrainPredict)+(look_back)*2:len(dataset), :] = TestPredict\n",
        "plt.plot(dataset)\n",
        "plt.plot(trainPredictPlot)\n",
        "plt.plot(testPredictPlot)\n",
        "plt.show()"
      ],
      "metadata": {
        "colab": {
          "base_uri": "https://localhost:8080/",
          "height": 265
        },
        "id": "EQ1WtXvKGtnh",
        "outputId": "c3f99ae1-661e-4399-84fc-42dcb30e549a"
      },
      "execution_count": 27,
      "outputs": [
        {
          "output_type": "display_data",
          "data": {
            "text/plain": [
              "<Figure size 432x288 with 1 Axes>"
            ],
            "image/png": "[encoded data removed]"
          },
          "metadata": {
            "needs_background": "light"
          }
        }
      ]
    }
  ]
}